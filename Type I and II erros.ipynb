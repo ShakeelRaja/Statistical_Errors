{
 "cells": [
  {
   "cell_type": "markdown",
   "metadata": {},
   "source": [
    "## Understanding Statistical Errors (TYPE I and II)"
   ]
  },
  {
   "cell_type": "markdown",
   "metadata": {},
   "source": [
    "## SWBATS\n",
    "\n",
    "* Describe and differentiate between TYPE I and TYPE II errors.\n",
    "* Understand alpha and beta for represting false positive and false negative values.\n",
    "* Simulate TYPE I and TYPE II errors with alpha control to observe the output of an experiment. \n",
    "* Explain why alpha = 0.5 is chosen as a cut off point for rejecting NULL hypothesis in most scientific experiments. \n"
   ]
  },
  {
   "cell_type": "markdown",
   "metadata": {},
   "source": [
    "The result of a statistical hypothesis test and the corresponding decision of whether to reject or accept the null hypothesis is not infallible. A test provides evidence for or against the null hypothesis and then you decide whether to accept or reject it based on that evidence, but the evidence may lack the strength to arrive at the correct conclusion. Incorrect conclusions made from hypothesis tests fall in one of two categories, i.e. [Type 1 and Type 2 erros](https://en.wikipedia.org/wiki/Type_I_and_type_II_errors)"
   ]
  },
  {
   "cell_type": "markdown",
   "metadata": {},
   "source": [
    "\n",
    "\n",
    "### Statistical Errors - An analogy from Aesop's Fables\n",
    "\n",
    "Let's think of Aesop's Fable about the boy and the wolf. \n",
    "\n",
    "A little boy is protecting a flock of his sheep from wolves. If a wolf comes, he is supposed to cry “WOLF”, so that the men from the village can come and stop the wolf from attacking the flock. A few days pass and the boy is bored as no wolf ever comes. For a bit of fun, he pretends that a wolf has arrived and attacking the sheep. So he cries out loud \"WOLF\", as he is supposed to do. \n",
    "\n",
    "For the villagers\n",
    "\n",
    ">The Null Hypothesis is that there is no wolf.\n",
    ">the Alternative Hypothesis is that there is a wolf. \n",
    "\n",
    "Villagers come running to save the sheep, but don't see any wolf. The boy laughs at them and tells them that he played a trick on them just for fun. \n",
    "\n",
    ">A \"TYPE I\" or \"FALSE POSITIVE\" error has occurred (i.e. rejecting the Null Hypothesis when it is true i.e. villagers believing the boy when there was no wolf)\n",
    "\n",
    "The boy enjoys this very much, so he repeats this again and villagers come running as they did before. All the villagers get really angry and decide not to believe him again. \n",
    "\n",
    "After some time a wolf really does attack. The boy cries “WOLF” but no one comes for help, thinking that he is playing the trick again. The wolf attacks and kills all the sheep. \n",
    "\n",
    ">A \"TYPE II\" or \"FALSE NEGATIVE\" error has occurred. (i.e. accepting Null Hypothesis when it is actually false i.e. e.g villagers not believing the boy when there actually was a wolf)"
   ]
  },
  {
   "cell_type": "markdown",
   "metadata": {},
   "source": [
    "### Alpha and Beta\n",
    "\n",
    "**Alpha (α):** is the probability of a type I error i.e. finding a difference when a difference does not exist. \n",
    "\n",
    "Most medical literature uses an alpha cut-off of 5% (0.05), indicating a 5% chance that a significant difference is actually due to chance and is not a true difference. \n",
    "\n",
    "**Beta (β):** is the probability of a type II error i.e. not detecting a difference when one actually exists. \n",
    "\n",
    "Beta is directly related to study power (Power = 1 – β) which we shall see in the next lesson. Most medical literature uses a beta cut-off of 20% (0.2), indicating a 20% chance that a significant difference is missed. \n"
   ]
  },
  {
   "cell_type": "markdown",
   "metadata": {},
   "source": [
    "### Why is an α level of 0.05 chosen as a cut-off for statistical significance?\n",
    "\n",
    "The α level of 0.05 is considered the best balance to avoid excessive type I or type II errors. \n",
    "\n",
    "\n",
    "If we decide the value of alpha to say .35 i.e. 35%:\n",
    "* Increases the chance of rejecting the null hypothesis\n",
    "* The risk of a Type II error (false negative) is REDUCED\n",
    "* Risk of a Type I error (false positive) is INCREASED\n",
    "\n",
    "similarly, if we decide to use a very small value of alpha, it'll change the outcome as:\n",
    "* Increases the chance of accepting the null hypothesis\n",
    "* The risk of a Type I error (false positive) is REDUCED\n",
    "* Risk of a Type II error (false negative) is INCREASED\n",
    "\n",
    "From above, we can see that in statistical hypothesis testing, the more we try and avoid a Type I error (false positive), the more likely a Type II error (false negative) will occur. \n",
    "\n",
    "Let's try to simulate| and visualize this phenomenon using some Python code.\n"
   ]
  },
  {
   "cell_type": "code",
   "execution_count": 52,
   "metadata": {},
   "outputs": [],
   "source": [
    "import numpy as np\n",
    "import pandas as pd\n",
    "import scipy.stats as stats\n",
    "import matplotlib.pyplot as plt\n",
    "import math\n",
    "import random \n",
    "\n",
    "import seaborn as sns\n",
    "sns.set(color_codes=True)"
   ]
  },
  {
   "cell_type": "markdown",
   "metadata": {},
   "source": [
    " First, we create a population of 1000 elements with a mean of 100 and a standard deviation of 20."
   ]
  },
  {
   "cell_type": "code",
   "execution_count": 53,
   "metadata": {},
   "outputs": [
    {
     "data": {
      "text/plain": [
       "<matplotlib.axes._subplots.AxesSubplot at 0x1a1e7c10f0>"
      ]
     },
     "execution_count": 53,
     "metadata": {},
     "output_type": "execute_result"
    },
    {
     "data": {
      "image/png": "[encoded data removed]",
      "text/plain": [
       "<matplotlib.figure.Figure at 0x1a1e7c18d0>"
      ]
     },
     "metadata": {},
     "output_type": "display_data"
    }
   ],
   "source": [
    "# Create a population with mean=100 and sd=20 and size = 1000\n",
    "pop = np.random.normal(100, 20, 1000)\n",
    "pop.dtype\n",
    "sns.distplot(pop)"
   ]
  },
  {
   "cell_type": "markdown",
   "metadata": {},
   "source": [
    "> **Exercise:** Take two sample from this population and comment of the difference between their and means and standard deviations. How would you ensure the independance between elements of these samples? "
   ]
  },
  {
   "cell_type": "code",
   "execution_count": 101,
   "metadata": {},
   "outputs": [
    {
     "name": "stdout",
     "output_type": "stream",
     "text": [
      "Sample 1 Summary\n"
     ]
    },
    {
     "data": {
      "text/plain": [
       "DescribeResult(nobs=100, minmax=(53.82813626155165, 143.85074796993345), mean=98.46465243527156, variance=321.6988265944241, skewness=0.09590792187352774, kurtosis=-0.1237081788358374)"
      ]
     },
     "execution_count": 101,
     "metadata": {},
     "output_type": "execute_result"
    }
   ],
   "source": [
    "k = 100\n",
    "sample1 = np.random.choice(pop,100,replace=True)\n",
    "\n",
    "print (\"Sample 1 Summary\")\n",
    "stats.describe(sample1)"
   ]
  },
  {
   "cell_type": "code",
   "execution_count": 102,
   "metadata": {},
   "outputs": [
    {
     "name": "stdout",
     "output_type": "stream",
     "text": [
      "Sample 2 Summary\n"
     ]
    },
    {
     "data": {
      "text/plain": [
       "DescribeResult(nobs=100, minmax=(52.03818169426958, 140.33933614029806), mean=98.94234387303113, variance=411.5791523015102, skewness=0.012012179549299628, kurtosis=-0.3978908583857974)"
      ]
     },
     "execution_count": 102,
     "metadata": {},
     "output_type": "execute_result"
    }
   ],
   "source": [
    "sample2 = np.random.choice(pop,100,replace=True)\n",
    "print (\"Sample 2 Summary\")\n",
    "stats.describe(sample2)"
   ]
  },
  {
   "cell_type": "markdown",
   "metadata": {},
   "source": [
    "We can see can see that if we take two samples from this population, the difference between the mean of samples 1 and 2 is very small small (this can be tried repeatedly). We must sample with replacement in order to ensure the independance assumption between elements of the sample. \n",
    "\n",
    "There is, however, still a probability of seeing very large difference between values, even though they’re estimates of the same population parameters. In a statistical setting we’d interpret these unusually large differences as evidence that the two samples are statistically different. \n",
    "\n",
    "> **Question:** How often will we get “unusually large” (statistically significant) differences between samples form the same population by random chance? \n",
    "\n",
    "It depends on how you define statistical significance. In statistical tests this is done by setting a significance threshold `α` (alpha). Alpha controls how often we’ll get a type 1 error. A type 1 error occurs when our statistical test erroneously indicates a significant result.\n",
    "\n",
    "We can run two sample t-test with independance assumption on these sample and as expected, the null hypothesis will be proven true due to similarities between distributions. We can also visualize the distribution to confirm the similarity between means and SDs. "
   ]
  },
  {
   "cell_type": "code",
   "execution_count": 56,
   "metadata": {},
   "outputs": [
    {
     "data": {
      "text/plain": [
       "Ttest_indResult(statistic=0.2824214406310594, pvalue=0.7779153802922008)"
      ]
     },
     "execution_count": 56,
     "metadata": {},
     "output_type": "execute_result"
    }
   ],
   "source": [
    "# test the sample means\n",
    "stats.ttest_ind(sample1, sample2)"
   ]
  },
  {
   "cell_type": "code",
   "execution_count": 57,
   "metadata": {},
   "outputs": [
    {
     "data": {
      "image/png": "[encoded data removed]",
      "text/plain": [
       "<matplotlib.figure.Figure at 0x1a1e975b38>"
      ]
     },
     "metadata": {},
     "output_type": "display_data"
    }
   ],
   "source": [
    "plt.figure(\"Test Samples\")\n",
    "sns.distplot(sample1, label='Sample1') \n",
    "sns.distplot(sample2, label='Sample2')\n",
    "plt.legend()\n",
    "plt.show()\n"
   ]
  },
  {
   "cell_type": "markdown",
   "metadata": {},
   "source": [
    "### Simulating Type I and II errors\n",
    "\n",
    "### Type I error\n",
    "TYPE I error describes a situation where you reject the null hypothesis when it is actually true. This type of error is also known as a \"false positive\" or \"false hit\". The type 1 error rate is equal to the significance level α, so setting a higher confidence level (and therefore lower alpha) reduces the chances of getting a false positive."
   ]
  },
  {
   "cell_type": "markdown",
   "metadata": {},
   "source": [
    "\n",
    "\n",
    "### How alpha affects the prevalence of TYPE I errors.\n",
    "\n",
    "Next, we shall see how alpha affects the rate of type 1 errors. \n",
    "\n",
    "> **Exercise:** Write a routine in Python to encapsulate the code shown above in order to repeat hypothesis tests on two randomly drawn distribution. The t-test will mostly fail to reject the null hypothesis, except, when by random chance you get a set of **extremely** different samples thus reject the null hypothesis (TYPE I ERROR). The frequency of such bad results depends upon the value of alpha. \n",
    "\n",
    "* Step 1: Create a population distribution (as shown above) \n",
    "* Step 2: Specify a number of hypothesis tests in numTests = 1000\n",
    "* Step 3: Create a list of alpha values to explore (alpha_set) = [0.001, 0.01, 0.05, 0.1, 0.2, 0.5]\n",
    "* Step 4: Create a pandas dataframe (sig_tests) to store 1000x5 = 5000 test results. \n",
    "* Step 5: Repeatedly take two random samples from population and run independant t-tests. \n",
    "* Step 6: Store P_value, alpha and a boolean variable to show whether null hypothesis was rejected or not (i.e. if p-value is less than alpha), for each of 5000 tests. \n",
    "* Step 7: Summarize/aggregate the results for presentation in a meaningful manner. \n"
   ]
  },
  {
   "cell_type": "code",
   "execution_count": 58,
   "metadata": {},
   "outputs": [],
   "source": [
    "# Solution \n",
    "\n",
    "import pandas as pd\n",
    "\n",
    "numTests = 100\n",
    "alphaSet = [0.001, 0.01, 0.05, 0.1, 0.2, 0.5]\n",
    "columns = ['err', 'p_val', 'alpha']\n",
    "sigTests = pd.DataFrame(columns=columns)\n",
    "\n",
    "# Create a population with mean=100 and sd=20 and size = 1000\n",
    "pop = np.random.normal(100, 20, 1000)\n",
    "\n",
    "# Create a counter for dataframe index values\n",
    "counter = 1\n",
    "\n",
    "# Run the t-test on samples from distribution numTests x slphaSet times\n",
    "\n",
    "for i in range(1,numTests+1):\n",
    "    \n",
    "    for alpha in alphaSet:\n",
    "\n",
    "        # take two samples from the same population\n",
    "            samp1 = np.random.choice(pop,100,replace=True)\n",
    "            samp2 = np.random.choice(pop,100,replace=True)\n",
    "\n",
    "            # test sample means\n",
    "            result = stats.ttest_ind(samp1, samp2)\n",
    "\n",
    "            # Evaluate whether Null hypothesis for TYPE I error\n",
    "            if result[1] < alpha:\n",
    "                 sigTests.loc[counter] = [1, result[1], alpha]\n",
    "            else:\n",
    "                 sigTests.loc[counter] = [0, result[1], alpha]\n",
    "\n",
    "            counter += 1"
   ]
  },
  {
   "cell_type": "code",
   "execution_count": 59,
   "metadata": {},
   "outputs": [
    {
     "data": {
      "text/html": [
       "<div>\n",
       "<style scoped>\n",
       "    .dataframe tbody tr th:only-of-type {\n",
       "        vertical-align: middle;\n",
       "    }\n",
       "\n",
       "    .dataframe tbody tr th {\n",
       "        vertical-align: top;\n",
       "    }\n",
       "\n",
       "    .dataframe thead th {\n",
       "        text-align: right;\n",
       "    }\n",
       "</style>\n",
       "<table border=\"1\" class=\"dataframe\">\n",
       "  <thead>\n",
       "    <tr style=\"text-align: right;\">\n",
       "      <th></th>\n",
       "      <th>err</th>\n",
       "      <th>p_val</th>\n",
       "      <th>alpha</th>\n",
       "    </tr>\n",
       "  </thead>\n",
       "  <tbody>\n",
       "    <tr>\n",
       "      <th>1</th>\n",
       "      <td>0.0</td>\n",
       "      <td>0.985848</td>\n",
       "      <td>0.001</td>\n",
       "    </tr>\n",
       "    <tr>\n",
       "      <th>2</th>\n",
       "      <td>0.0</td>\n",
       "      <td>0.650285</td>\n",
       "      <td>0.010</td>\n",
       "    </tr>\n",
       "    <tr>\n",
       "      <th>3</th>\n",
       "      <td>0.0</td>\n",
       "      <td>0.879949</td>\n",
       "      <td>0.050</td>\n",
       "    </tr>\n",
       "    <tr>\n",
       "      <th>4</th>\n",
       "      <td>0.0</td>\n",
       "      <td>0.985628</td>\n",
       "      <td>0.100</td>\n",
       "    </tr>\n",
       "    <tr>\n",
       "      <th>5</th>\n",
       "      <td>0.0</td>\n",
       "      <td>0.801812</td>\n",
       "      <td>0.200</td>\n",
       "    </tr>\n",
       "  </tbody>\n",
       "</table>\n",
       "</div>"
      ],
      "text/plain": [
       "   err     p_val  alpha\n",
       "1  0.0  0.985848  0.001\n",
       "2  0.0  0.650285  0.010\n",
       "3  0.0  0.879949  0.050\n",
       "4  0.0  0.985628  0.100\n",
       "5  0.0  0.801812  0.200"
      ]
     },
     "execution_count": 59,
     "metadata": {},
     "output_type": "execute_result"
    }
   ],
   "source": [
    "sigTests.head()"
   ]
  },
  {
   "cell_type": "markdown",
   "metadata": {},
   "source": [
    "Now we have to summarize the results, this is done using pandas groupby() method which sums the “err” column for each level of alpha. The groupby method iterates over each value of alpha, selecting the type 1 error column for all rows with a specific level of alpha and then applies the sum function to the selection. "
   ]
  },
  {
   "cell_type": "code",
   "execution_count": 97,
   "metadata": {
    "scrolled": true
   },
   "outputs": [
    {
     "data": {
      "text/plain": [
       "<matplotlib.axes._subplots.AxesSubplot at 0x1a1de02b00>"
      ]
     },
     "execution_count": 97,
     "metadata": {},
     "output_type": "execute_result"
    },
    {
     "data": {
      "image/png": "[encoded data removed]",
      "text/plain": [
       "<matplotlib.figure.Figure at 0x1a1e8e2eb8>"
      ]
     },
     "metadata": {},
     "output_type": "display_data"
    }
   ],
   "source": [
    "# group type 1 error by values of alpha\n",
    "group_error = sigTests.groupby('alpha')['err'].sum()\n",
    "group_error.plot.bar(title = \"TYPE I ERROR - FALSE POSITIVES\")"
   ]
  },
  {
   "cell_type": "markdown",
   "metadata": {},
   "source": [
    "Grouped data clearly shows that as value of alpha is increases from .001 to 0.5, the probability of TYPE I errors also increase.  "
   ]
  },
  {
   "cell_type": "markdown",
   "metadata": {},
   "source": [
    "### Type II error \n",
    "\n",
    "This error describes a situation where you fail to reject the null hypothesis when it is actually false. Type II error is also known as a \"false negative\" or \"miss\". The higher your confidence level, the more likely you are to make a type II error."
   ]
  },
  {
   "cell_type": "markdown",
   "metadata": {},
   "source": [
    "### How alpha affects the prevalence of TYPE II errors.\n",
    "\n",
    "> **Exercise** Write a code similar to above except samples should be taken from two different populations. introduce a new variable to represent the difference between two poulations. The hypothesis test should, in most cases, reject the Null hypothesis as samples belong to different populations, except, in extreme cases where there is no significant difference between samples i.e. a TYPE II error (False Negatives). Code should reflect how rate of false negatives is affected by alpha. "
   ]
  },
  {
   "cell_type": "code",
   "execution_count": 98,
   "metadata": {},
   "outputs": [],
   "source": [
    "# Solution\n",
    "\n",
    "numTests = 1000\n",
    "diff = 10\n",
    "ahpha_set =  [0.001, 0.01, 0.05, 0.1, 0.2, 0.5]\n",
    "columns = ['err', 'p_val', 'alpha']\n",
    "sigTests2 = pd.DataFrame(columns=columns)\n",
    "\n",
    "counter = 1\n",
    "\n",
    "for i in range(1,numTests+1):\n",
    "    \n",
    "    for alpha in alphaSet:\n",
    "\n",
    "        # take two samples from different populations\n",
    "            samp1 = np.random.normal(100, 20, 100)\n",
    "            samp2 = np.random.normal(100+diff, 20, 100)\n",
    "\n",
    "            # test sample means\n",
    "            result = stats.ttest_ind(samp1, samp2)\n",
    "\n",
    "            # Evaluate the Null hypothesis for TYPE II error (Note > as compared to < previously)\n",
    "            if result[1] > alpha:\n",
    "                 sigTests2.loc[counter] = [1, result[1], alpha]\n",
    "            else:\n",
    "                 sigTests2.loc[counter] = [0, result[1], alpha]\n",
    "\n",
    "            counter += 1"
   ]
  },
  {
   "cell_type": "markdown",
   "metadata": {},
   "source": [
    "Count of number of TYPE II errors according to alpha"
   ]
  },
  {
   "cell_type": "code",
   "execution_count": 99,
   "metadata": {},
   "outputs": [
    {
     "data": {
      "text/plain": [
       "<matplotlib.axes._subplots.AxesSubplot at 0x1a1f5274e0>"
      ]
     },
     "execution_count": 99,
     "metadata": {},
     "output_type": "execute_result"
    },
    {
     "data": {
      "image/png": "[encoded data removed]",
      "text/plain": [
       "<matplotlib.figure.Figure at 0x1a1f48d6a0>"
      ]
     },
     "metadata": {},
     "output_type": "display_data"
    }
   ],
   "source": [
    "group_error2 = sigTests2.groupby('alpha')['err'].sum()\n",
    "\n",
    "group_error2.plot.bar(title = \"Type II ERROR - FALSE NEGATIVES\")"
   ]
  },
  {
   "cell_type": "markdown",
   "metadata": {},
   "source": [
    "Grouped data clearly shows that as value of alpha is increases from .001 to 0.5, the probability of TYPE II errors decreases.  "
   ]
  },
  {
   "cell_type": "markdown",
   "metadata": {},
   "source": [
    "### Conclusion\n",
    "\n",
    "The statstical key point here is that there is always a trade off between false positives and false negatives. By increasing alpha the number of false positives increases but the number of false negatives decreases as shown in bar graphs. The value of alpha=0.05 is considered a reasonable compromise between these two types of errors. Within the concept of “signifigance” there is embedded a trade-off between these two types of errors. \n",
    "\n",
    "> Think of “signifigance” as a compromise, between false positives and negatives, not as absolute determination."
   ]
  },
  {
   "cell_type": "code",
   "execution_count": null,
   "metadata": {},
   "outputs": [],
   "source": []
  }
 ],
 "metadata": {
  "kernelspec": {
   "display_name": "Python 3",
   "language": "python",
   "name": "python3"
  },
  "language_info": {
   "codemirror_mode": {
    "name": "ipython",
    "version": 3
   },
   "file_extension": ".py",
   "mimetype": "text/x-python",
   "name": "python",
   "nbconvert_exporter": "python",
   "pygments_lexer": "ipython3",
   "version": "3.6.4"
  }
 },
 "nbformat": 4,
 "nbformat_minor": 2
}
